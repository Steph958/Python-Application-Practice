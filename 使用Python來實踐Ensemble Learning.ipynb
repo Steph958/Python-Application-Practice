{
 "cells": [
  {
   "cell_type": "markdown",
   "metadata": {},
   "source": [
    "集成（Ensemble）\n",
    "\n",
    "集成（Ensemble）分類模型是綜合考量多個分類器的預測結果，從而做出決策。\n",
    "一般分為兩種方式：\n",
    "\n",
    "1）Bagging:\n",
    "利用相同的訓練數據同時搭建多個獨立的分類模型，然後通過投票的方式，以少數服從多數的原則做出最終的分類決策。如隨機森林分類器的是在相同的訓練數據上同時搭建多棵決策樹；在構建每一棵決策樹會隨機選擇特徵。\n",
    "\n",
    "2）Boosting:\n",
    "按照一定次序搭建多個分類模型，因此這些模型之間彼此存在依賴關係。一般而言，每一個後續模型的加入都需要對現有集成模型的綜合性能有所貢獻，進而不斷提升更新過後的集成模型的性能，最終期望借助整合多個分類能力較弱的分類器，搭建出具有更強分類能力的模型。如梯度提升樹：它生成每一棵決策樹的過程中都會盡可能降低整體集成模型在訓練集上的擬合誤差。"
   ]
  },
  {
   "cell_type": "code",
   "execution_count": 21,
   "metadata": {},
   "outputs": [],
   "source": [
    "import pandas as pd\n",
    "from sklearn.model_selection import train_test_split\n",
    "from sklearn.feature_extraction import DictVectorizer\n",
    "from sklearn.tree import DecisionTreeClassifier\n",
    "from sklearn.ensemble import RandomForestClassifier\n",
    "from sklearn.ensemble import GradientBoostingClassifier\n",
    "from xgboost import XGBClassifier\n",
    "from sklearn.metrics import classification_report"
   ]
  },
  {
   "cell_type": "code",
   "execution_count": 2,
   "metadata": {},
   "outputs": [
    {
     "name": "stdout",
     "output_type": "stream",
     "text": [
      "<class 'pandas.core.frame.DataFrame'>\n",
      "RangeIndex: 891 entries, 0 to 890\n",
      "Data columns (total 12 columns):\n",
      "PassengerId    891 non-null int64\n",
      "Survived       891 non-null int64\n",
      "Pclass         891 non-null int64\n",
      "Name           891 non-null object\n",
      "Sex            891 non-null object\n",
      "Age            714 non-null float64\n",
      "SibSp          891 non-null int64\n",
      "Parch          891 non-null int64\n",
      "Ticket         891 non-null object\n",
      "Fare           891 non-null float64\n",
      "Cabin          204 non-null object\n",
      "Embarked       889 non-null object\n",
      "dtypes: float64(2), int64(5), object(5)\n",
      "memory usage: 83.7+ KB\n"
     ]
    }
   ],
   "source": [
    "#匯入資料\n",
    "df = pd.read_csv('C:/Users/USER/Desktop/Github/Python Project/train.csv')\n",
    "df.info()"
   ]
  },
  {
   "cell_type": "code",
   "execution_count": 6,
   "metadata": {},
   "outputs": [],
   "source": [
    "#前處理\n",
    "x = df[['Pclass', 'Age', 'Sex']]"
   ]
  },
  {
   "cell_type": "code",
   "execution_count": 12,
   "metadata": {},
   "outputs": [
    {
     "name": "stderr",
     "output_type": "stream",
     "text": [
      "C:\\Users\\USER\\Anaconda3\\lib\\site-packages\\ipykernel_launcher.py:1: SettingWithCopyWarning: \n",
      "A value is trying to be set on a copy of a slice from a DataFrame.\n",
      "Try using .loc[row_indexer,col_indexer] = value instead\n",
      "\n",
      "See the caveats in the documentation: http://pandas.pydata.org/pandas-docs/stable/user_guide/indexing.html#returning-a-view-versus-a-copy\n",
      "  \"\"\"Entry point for launching an IPython kernel.\n"
     ]
    }
   ],
   "source": [
    "x['Age'] = x['Age'].fillna(x['Age'].mean())"
   ]
  },
  {
   "cell_type": "code",
   "execution_count": 8,
   "metadata": {},
   "outputs": [],
   "source": [
    "y = df['Survived']"
   ]
  },
  {
   "cell_type": "code",
   "execution_count": 13,
   "metadata": {},
   "outputs": [
    {
     "name": "stdout",
     "output_type": "stream",
     "text": [
      "<class 'pandas.core.frame.DataFrame'>\n",
      "RangeIndex: 891 entries, 0 to 890\n",
      "Data columns (total 3 columns):\n",
      "Pclass    891 non-null int64\n",
      "Age       891 non-null float64\n",
      "Sex       891 non-null object\n",
      "dtypes: float64(1), int64(1), object(1)\n",
      "memory usage: 21.0+ KB\n"
     ]
    }
   ],
   "source": [
    "x.info()"
   ]
  },
  {
   "cell_type": "code",
   "execution_count": 15,
   "metadata": {},
   "outputs": [
    {
     "data": {
      "text/plain": [
       "0      0\n",
       "1      1\n",
       "2      1\n",
       "3      1\n",
       "4      0\n",
       "      ..\n",
       "886    0\n",
       "887    1\n",
       "888    0\n",
       "889    1\n",
       "890    0\n",
       "Name: Survived, Length: 891, dtype: int64"
      ]
     },
     "execution_count": 15,
     "metadata": {},
     "output_type": "execute_result"
    }
   ],
   "source": [
    "y"
   ]
  },
  {
   "cell_type": "code",
   "execution_count": 17,
   "metadata": {},
   "outputs": [],
   "source": [
    "#訓練集測試集分割\n",
    "#數據標準化\n",
    "X_train,X_test,y_train,y_test = train_test_split(x,y,test_size=0.25,random_state=33)  # 將數據進行分割\n",
    "\n",
    "vec = DictVectorizer(sparse=False)\n",
    "X_train = vec.fit_transform(X_train.to_dict(orient='record'))   \n",
    "X_test = vec.transform(X_test.to_dict(orient='record'))         "
   ]
  },
  {
   "cell_type": "code",
   "execution_count": 19,
   "metadata": {},
   "outputs": [
    {
     "data": {
      "text/plain": [
       "array([[47.        ,  1.        ,  0.        ,  1.        ],\n",
       "       [40.        ,  3.        ,  0.        ,  1.        ],\n",
       "       [29.69911765,  3.        ,  0.        ,  1.        ],\n",
       "       ...,\n",
       "       [25.        ,  2.        ,  0.        ,  1.        ],\n",
       "       [21.        ,  3.        ,  0.        ,  1.        ],\n",
       "       [35.        ,  2.        ,  0.        ,  1.        ]])"
      ]
     },
     "execution_count": 19,
     "metadata": {},
     "output_type": "execute_result"
    }
   ],
   "source": [
    "X_train  \n",
    "\n",
    "#numpy.ndarray"
   ]
  },
  {
   "cell_type": "code",
   "execution_count": 20,
   "metadata": {},
   "outputs": [
    {
     "data": {
      "text/plain": [
       "array([[ 2.        ,  1.        ,  1.        ,  0.        ],\n",
       "       [16.        ,  3.        ,  1.        ,  0.        ],\n",
       "       [51.        ,  3.        ,  0.        ,  1.        ],\n",
       "       [29.        ,  3.        ,  1.        ,  0.        ],\n",
       "       [34.        ,  2.        ,  0.        ,  1.        ],\n",
       "       [45.        ,  1.        ,  0.        ,  1.        ],\n",
       "       [27.        ,  1.        ,  0.        ,  1.        ],\n",
       "       [24.        ,  2.        ,  1.        ,  0.        ],\n",
       "       [14.        ,  3.        ,  0.        ,  1.        ],\n",
       "       [18.        ,  2.        ,  1.        ,  0.        ],\n",
       "       [40.        ,  1.        ,  1.        ,  0.        ],\n",
       "       [36.        ,  1.        ,  0.        ,  1.        ],\n",
       "       [18.        ,  3.        ,  0.        ,  1.        ],\n",
       "       [45.        ,  3.        ,  1.        ,  0.        ],\n",
       "       [29.69911765,  3.        ,  1.        ,  0.        ],\n",
       "       [17.        ,  3.        ,  0.        ,  1.        ],\n",
       "       [19.        ,  3.        ,  0.        ,  1.        ],\n",
       "       [30.        ,  3.        ,  0.        ,  1.        ],\n",
       "       [21.        ,  3.        ,  1.        ,  0.        ],\n",
       "       [29.69911765,  3.        ,  1.        ,  0.        ],\n",
       "       [16.        ,  2.        ,  0.        ,  1.        ],\n",
       "       [16.        ,  3.        ,  0.        ,  1.        ],\n",
       "       [48.        ,  3.        ,  0.        ,  1.        ],\n",
       "       [24.        ,  2.        ,  1.        ,  0.        ],\n",
       "       [49.        ,  1.        ,  0.        ,  1.        ],\n",
       "       [30.        ,  3.        ,  0.        ,  1.        ],\n",
       "       [48.        ,  1.        ,  0.        ,  1.        ],\n",
       "       [29.69911765,  1.        ,  0.        ,  1.        ],\n",
       "       [33.        ,  3.        ,  0.        ,  1.        ],\n",
       "       [42.        ,  3.        ,  0.        ,  1.        ],\n",
       "       [19.        ,  3.        ,  1.        ,  0.        ],\n",
       "       [45.        ,  3.        ,  1.        ,  0.        ],\n",
       "       [62.        ,  1.        ,  0.        ,  1.        ],\n",
       "       [34.        ,  2.        ,  0.        ,  1.        ],\n",
       "       [22.        ,  3.        ,  0.        ,  1.        ],\n",
       "       [17.        ,  3.        ,  0.        ,  1.        ],\n",
       "       [36.        ,  2.        ,  0.        ,  1.        ],\n",
       "       [33.        ,  2.        ,  1.        ,  0.        ],\n",
       "       [23.        ,  3.        ,  0.        ,  1.        ],\n",
       "       [37.        ,  3.        ,  1.        ,  0.        ],\n",
       "       [62.        ,  2.        ,  0.        ,  1.        ],\n",
       "       [30.5       ,  3.        ,  0.        ,  1.        ],\n",
       "       [28.5       ,  3.        ,  0.        ,  1.        ],\n",
       "       [24.        ,  1.        ,  1.        ,  0.        ],\n",
       "       [18.        ,  1.        ,  1.        ,  0.        ],\n",
       "       [29.69911765,  3.        ,  1.        ,  0.        ],\n",
       "       [15.        ,  3.        ,  0.        ,  1.        ],\n",
       "       [ 6.        ,  3.        ,  0.        ,  1.        ],\n",
       "       [ 2.        ,  3.        ,  0.        ,  1.        ],\n",
       "       [56.        ,  1.        ,  0.        ,  1.        ],\n",
       "       [ 9.        ,  3.        ,  0.        ,  1.        ],\n",
       "       [25.        ,  3.        ,  0.        ,  1.        ],\n",
       "       [35.        ,  3.        ,  0.        ,  1.        ],\n",
       "       [29.        ,  3.        ,  0.        ,  1.        ],\n",
       "       [36.        ,  1.        ,  1.        ,  0.        ],\n",
       "       [30.        ,  1.        ,  1.        ,  0.        ],\n",
       "       [21.        ,  3.        ,  0.        ,  1.        ],\n",
       "       [29.69911765,  3.        ,  0.        ,  1.        ],\n",
       "       [39.        ,  2.        ,  0.        ,  1.        ],\n",
       "       [30.        ,  1.        ,  1.        ,  0.        ],\n",
       "       [24.        ,  3.        ,  1.        ,  0.        ],\n",
       "       [18.        ,  1.        ,  1.        ,  0.        ],\n",
       "       [29.69911765,  3.        ,  0.        ,  1.        ],\n",
       "       [30.        ,  1.        ,  1.        ,  0.        ],\n",
       "       [24.        ,  1.        ,  0.        ,  1.        ],\n",
       "       [38.        ,  1.        ,  0.        ,  1.        ],\n",
       "       [18.        ,  1.        ,  0.        ,  1.        ],\n",
       "       [29.69911765,  1.        ,  1.        ,  0.        ],\n",
       "       [29.69911765,  3.        ,  0.        ,  1.        ],\n",
       "       [32.5       ,  2.        ,  0.        ,  1.        ],\n",
       "       [24.5       ,  3.        ,  0.        ,  1.        ],\n",
       "       [45.        ,  1.        ,  1.        ,  0.        ],\n",
       "       [39.        ,  1.        ,  0.        ,  1.        ],\n",
       "       [58.        ,  1.        ,  0.        ,  1.        ],\n",
       "       [17.        ,  1.        ,  0.        ,  1.        ],\n",
       "       [29.69911765,  3.        ,  0.        ,  1.        ],\n",
       "       [29.        ,  1.        ,  1.        ,  0.        ],\n",
       "       [49.        ,  1.        ,  0.        ,  1.        ],\n",
       "       [ 3.        ,  3.        ,  0.        ,  1.        ],\n",
       "       [18.        ,  3.        ,  0.        ,  1.        ],\n",
       "       [ 9.        ,  3.        ,  0.        ,  1.        ],\n",
       "       [28.        ,  3.        ,  0.        ,  1.        ],\n",
       "       [16.        ,  3.        ,  1.        ,  0.        ],\n",
       "       [29.69911765,  3.        ,  0.        ,  1.        ],\n",
       "       [48.        ,  1.        ,  0.        ,  1.        ],\n",
       "       [36.        ,  3.        ,  0.        ,  1.        ],\n",
       "       [48.        ,  2.        ,  1.        ,  0.        ],\n",
       "       [29.69911765,  3.        ,  0.        ,  1.        ],\n",
       "       [18.        ,  3.        ,  0.        ,  1.        ],\n",
       "       [29.69911765,  3.        ,  1.        ,  0.        ],\n",
       "       [35.        ,  3.        ,  0.        ,  1.        ],\n",
       "       [ 9.        ,  3.        ,  1.        ,  0.        ],\n",
       "       [57.        ,  2.        ,  0.        ,  1.        ],\n",
       "       [24.        ,  3.        ,  1.        ,  0.        ],\n",
       "       [29.69911765,  3.        ,  0.        ,  1.        ],\n",
       "       [31.        ,  1.        ,  1.        ,  0.        ],\n",
       "       [45.        ,  1.        ,  0.        ,  1.        ],\n",
       "       [15.        ,  3.        ,  1.        ,  0.        ],\n",
       "       [24.        ,  3.        ,  0.        ,  1.        ],\n",
       "       [10.        ,  3.        ,  0.        ,  1.        ],\n",
       "       [ 2.        ,  3.        ,  0.        ,  1.        ],\n",
       "       [ 5.        ,  3.        ,  1.        ,  0.        ],\n",
       "       [16.        ,  3.        ,  0.        ,  1.        ],\n",
       "       [23.        ,  2.        ,  1.        ,  0.        ],\n",
       "       [48.        ,  3.        ,  1.        ,  0.        ],\n",
       "       [36.        ,  1.        ,  1.        ,  0.        ],\n",
       "       [29.69911765,  3.        ,  0.        ,  1.        ],\n",
       "       [35.        ,  3.        ,  1.        ,  0.        ],\n",
       "       [ 7.        ,  3.        ,  0.        ,  1.        ],\n",
       "       [20.        ,  3.        ,  0.        ,  1.        ],\n",
       "       [ 1.        ,  2.        ,  0.        ,  1.        ],\n",
       "       [28.        ,  2.        ,  0.        ,  1.        ],\n",
       "       [26.        ,  3.        ,  0.        ,  1.        ],\n",
       "       [29.69911765,  3.        ,  1.        ,  0.        ],\n",
       "       [ 4.        ,  3.        ,  0.        ,  1.        ],\n",
       "       [29.69911765,  3.        ,  0.        ,  1.        ],\n",
       "       [54.        ,  2.        ,  0.        ,  1.        ],\n",
       "       [29.69911765,  3.        ,  1.        ,  0.        ],\n",
       "       [40.        ,  1.        ,  1.        ,  0.        ],\n",
       "       [71.        ,  1.        ,  0.        ,  1.        ],\n",
       "       [54.        ,  1.        ,  1.        ,  0.        ],\n",
       "       [ 9.        ,  3.        ,  1.        ,  0.        ],\n",
       "       [ 9.        ,  3.        ,  1.        ,  0.        ],\n",
       "       [29.69911765,  1.        ,  0.        ,  1.        ],\n",
       "       [23.        ,  3.        ,  0.        ,  1.        ],\n",
       "       [30.5       ,  3.        ,  1.        ,  0.        ],\n",
       "       [29.69911765,  1.        ,  0.        ,  1.        ],\n",
       "       [ 4.        ,  3.        ,  1.        ,  0.        ],\n",
       "       [33.        ,  3.        ,  0.        ,  1.        ],\n",
       "       [19.        ,  2.        ,  1.        ,  0.        ],\n",
       "       [21.        ,  3.        ,  1.        ,  0.        ],\n",
       "       [22.        ,  1.        ,  1.        ,  0.        ],\n",
       "       [29.69911765,  2.        ,  0.        ,  1.        ],\n",
       "       [45.        ,  2.        ,  1.        ,  0.        ],\n",
       "       [29.69911765,  3.        ,  0.        ,  1.        ],\n",
       "       [52.        ,  1.        ,  1.        ,  0.        ],\n",
       "       [ 2.        ,  2.        ,  1.        ,  0.        ],\n",
       "       [27.        ,  3.        ,  1.        ,  0.        ],\n",
       "       [16.        ,  3.        ,  0.        ,  1.        ],\n",
       "       [13.        ,  3.        ,  1.        ,  0.        ],\n",
       "       [43.        ,  3.        ,  0.        ,  1.        ],\n",
       "       [23.        ,  1.        ,  1.        ,  0.        ],\n",
       "       [28.        ,  3.        ,  0.        ,  1.        ],\n",
       "       [32.        ,  3.        ,  0.        ,  1.        ],\n",
       "       [29.69911765,  3.        ,  0.        ,  1.        ],\n",
       "       [48.        ,  1.        ,  1.        ,  0.        ],\n",
       "       [29.69911765,  3.        ,  0.        ,  1.        ],\n",
       "       [29.69911765,  3.        ,  0.        ,  1.        ],\n",
       "       [29.69911765,  3.        ,  0.        ,  1.        ],\n",
       "       [60.        ,  1.        ,  1.        ,  0.        ],\n",
       "       [29.69911765,  3.        ,  0.        ,  1.        ],\n",
       "       [65.        ,  3.        ,  0.        ,  1.        ],\n",
       "       [49.        ,  1.        ,  1.        ,  0.        ],\n",
       "       [29.69911765,  3.        ,  0.        ,  1.        ],\n",
       "       [29.69911765,  3.        ,  1.        ,  0.        ],\n",
       "       [29.69911765,  3.        ,  1.        ,  0.        ],\n",
       "       [42.        ,  2.        ,  0.        ,  1.        ],\n",
       "       [56.        ,  1.        ,  0.        ,  1.        ],\n",
       "       [12.        ,  3.        ,  0.        ,  1.        ],\n",
       "       [22.        ,  3.        ,  0.        ,  1.        ],\n",
       "       [52.        ,  1.        ,  0.        ,  1.        ],\n",
       "       [24.        ,  2.        ,  0.        ,  1.        ],\n",
       "       [ 2.        ,  3.        ,  1.        ,  0.        ],\n",
       "       [53.        ,  1.        ,  1.        ,  0.        ],\n",
       "       [24.        ,  2.        ,  0.        ,  1.        ],\n",
       "       [50.        ,  2.        ,  1.        ,  0.        ],\n",
       "       [29.69911765,  1.        ,  0.        ,  1.        ],\n",
       "       [50.        ,  2.        ,  1.        ,  0.        ],\n",
       "       [35.        ,  1.        ,  1.        ,  0.        ],\n",
       "       [26.        ,  3.        ,  0.        ,  1.        ],\n",
       "       [59.        ,  2.        ,  0.        ,  1.        ],\n",
       "       [22.        ,  3.        ,  0.        ,  1.        ],\n",
       "       [19.        ,  1.        ,  0.        ,  1.        ],\n",
       "       [21.        ,  2.        ,  0.        ,  1.        ],\n",
       "       [29.69911765,  3.        ,  0.        ,  1.        ],\n",
       "       [17.        ,  3.        ,  0.        ,  1.        ],\n",
       "       [30.        ,  3.        ,  0.        ,  1.        ],\n",
       "       [33.        ,  1.        ,  1.        ,  0.        ],\n",
       "       [16.        ,  3.        ,  0.        ,  1.        ],\n",
       "       [34.        ,  3.        ,  0.        ,  1.        ],\n",
       "       [40.        ,  2.        ,  1.        ,  0.        ],\n",
       "       [19.        ,  3.        ,  0.        ,  1.        ],\n",
       "       [20.        ,  3.        ,  0.        ,  1.        ],\n",
       "       [19.        ,  3.        ,  1.        ,  0.        ],\n",
       "       [33.        ,  1.        ,  1.        ,  0.        ],\n",
       "       [30.        ,  2.        ,  0.        ,  1.        ],\n",
       "       [59.        ,  3.        ,  0.        ,  1.        ],\n",
       "       [21.        ,  3.        ,  1.        ,  0.        ],\n",
       "       [24.        ,  2.        ,  1.        ,  0.        ],\n",
       "       [ 9.        ,  3.        ,  0.        ,  1.        ],\n",
       "       [22.        ,  3.        ,  0.        ,  1.        ],\n",
       "       [24.        ,  3.        ,  0.        ,  1.        ],\n",
       "       [29.69911765,  3.        ,  0.        ,  1.        ],\n",
       "       [25.        ,  3.        ,  0.        ,  1.        ],\n",
       "       [30.        ,  2.        ,  0.        ,  1.        ],\n",
       "       [27.        ,  2.        ,  1.        ,  0.        ],\n",
       "       [ 8.        ,  3.        ,  0.        ,  1.        ],\n",
       "       [ 0.92      ,  1.        ,  0.        ,  1.        ],\n",
       "       [36.        ,  2.        ,  1.        ,  0.        ],\n",
       "       [25.        ,  3.        ,  0.        ,  1.        ],\n",
       "       [29.69911765,  1.        ,  0.        ,  1.        ],\n",
       "       [32.        ,  3.        ,  0.        ,  1.        ],\n",
       "       [21.        ,  3.        ,  0.        ,  1.        ],\n",
       "       [29.69911765,  3.        ,  0.        ,  1.        ],\n",
       "       [28.        ,  2.        ,  1.        ,  0.        ],\n",
       "       [42.        ,  1.        ,  0.        ,  1.        ],\n",
       "       [34.5       ,  3.        ,  0.        ,  1.        ],\n",
       "       [32.        ,  3.        ,  0.        ,  1.        ],\n",
       "       [29.69911765,  3.        ,  1.        ,  0.        ],\n",
       "       [28.        ,  2.        ,  1.        ,  0.        ],\n",
       "       [29.69911765,  3.        ,  1.        ,  0.        ],\n",
       "       [14.        ,  3.        ,  0.        ,  1.        ],\n",
       "       [52.        ,  1.        ,  1.        ,  0.        ],\n",
       "       [63.        ,  1.        ,  1.        ,  0.        ],\n",
       "       [36.        ,  2.        ,  1.        ,  0.        ],\n",
       "       [29.69911765,  1.        ,  1.        ,  0.        ],\n",
       "       [50.        ,  1.        ,  1.        ,  0.        ],\n",
       "       [35.        ,  2.        ,  1.        ,  0.        ],\n",
       "       [29.69911765,  3.        ,  1.        ,  0.        ],\n",
       "       [39.        ,  2.        ,  0.        ,  1.        ],\n",
       "       [29.69911765,  3.        ,  0.        ,  1.        ],\n",
       "       [65.        ,  1.        ,  0.        ,  1.        ],\n",
       "       [29.69911765,  3.        ,  0.        ,  1.        ]])"
      ]
     },
     "execution_count": 20,
     "metadata": {},
     "output_type": "execute_result"
    }
   ],
   "source": [
    "X_test \n",
    "\n",
    "#numpy.ndarray"
   ]
  },
  {
   "cell_type": "markdown",
   "metadata": {},
   "source": [
    "Training:\n",
    "\n"
   ]
  },
  {
   "cell_type": "code",
   "execution_count": 23,
   "metadata": {},
   "outputs": [
    {
     "name": "stderr",
     "output_type": "stream",
     "text": [
      "C:\\Users\\USER\\Anaconda3\\lib\\site-packages\\sklearn\\ensemble\\forest.py:245: FutureWarning: The default value of n_estimators will change from 10 in version 0.20 to 100 in 0.22.\n",
      "  \"10 in version 0.20 to 100 in 0.22.\", FutureWarning)\n"
     ]
    }
   ],
   "source": [
    "#使用單一決策樹進行模型訓練以及預測分析:\n",
    "dtc = DecisionTreeClassifier()\n",
    "dtc.fit(X_train, y_train)\n",
    "dtc_y_pred = dtc.predict(X_test)\n",
    "\n",
    "#使用隨機森林分類器進行集成模型的訓練以及預測分析:\n",
    "rfc = RandomForestClassifier()\n",
    "rfc.fit(X_train, y_train)\n",
    "rfc_y_pred = rfc.predict(X_test)\n",
    "\n",
    "#使用梯度提升樹進行集成模型的訓練以及預測分析:\n",
    "gbc = GradientBoostingClassifier()\n",
    "gbc.fit(X_train, y_train)\n",
    "gbc_y_pred = gbc.predict(X_test)\n",
    "\n",
    "#使用極限梯度提升樹進行集成模型的訓練以及預測分析:\n",
    "xgbc = XGBClassifier()\n",
    "xgbc.fit(X_train,y_train)\n",
    "xgbc_y_pred = gbc.predict(X_test)"
   ]
  },
  {
   "cell_type": "markdown",
   "metadata": {},
   "source": [
    "Evaluating:\n",
    "\n"
   ]
  },
  {
   "cell_type": "code",
   "execution_count": 31,
   "metadata": {},
   "outputs": [
    {
     "name": "stdout",
     "output_type": "stream",
     "text": [
      "The accuracy of decision tree is 0.8340807174887892\n",
      "              precision    recall  f1-score   support\n",
      "\n",
      "           0       0.90      0.84      0.87       143\n",
      "           1       0.74      0.82      0.78        80\n",
      "\n",
      "    accuracy                           0.83       223\n",
      "   macro avg       0.82      0.83      0.82       223\n",
      "weighted avg       0.84      0.83      0.84       223\n",
      "\n",
      "-------------------------------------------------------\n",
      "The accuracy of random forest classifier is 0.820627802690583\n",
      "              precision    recall  f1-score   support\n",
      "\n",
      "           0       0.87      0.84      0.85       140\n",
      "           1       0.74      0.80      0.77        83\n",
      "\n",
      "    accuracy                           0.82       223\n",
      "   macro avg       0.81      0.82      0.81       223\n",
      "weighted avg       0.82      0.82      0.82       223\n",
      "\n",
      "-------------------------------------------------------\n",
      "The accuracy of gradient tree boosting is 0.8430493273542601\n",
      "              precision    recall  f1-score   support\n",
      "\n",
      "           0       0.91      0.84      0.87       145\n",
      "           1       0.74      0.85      0.79        78\n",
      "\n",
      "    accuracy                           0.84       223\n",
      "   macro avg       0.83      0.84      0.83       223\n",
      "weighted avg       0.85      0.84      0.85       223\n",
      "\n",
      "-------------------------------------------------------\n",
      "The accuracy of extreme gradient tree boosting is 0.8251121076233184\n",
      "              precision    recall  f1-score   support\n",
      "\n",
      "           0       0.91      0.84      0.87       145\n",
      "           1       0.74      0.85      0.79        78\n",
      "\n",
      "    accuracy                           0.84       223\n",
      "   macro avg       0.83      0.84      0.83       223\n",
      "weighted avg       0.85      0.84      0.85       223\n",
      "\n"
     ]
    }
   ],
   "source": [
    "\n",
    "# 輸出單一決策樹在測試集上的分類準確性，以及更加詳細的精確率、召回率、F1指標。\n",
    "print ('The accuracy of decision tree is', dtc.score(X_test, y_test))\n",
    "print (classification_report(dtc_y_pred, y_test))\n",
    "print('-------------------------------------------------------')\n",
    "\n",
    "# 輸出隨機森林分類器在測試集上的分類準確性，以及更加詳細的精確率、召回率、F1指標。\n",
    "print('The accuracy of random forest classifier is', rfc.score(X_test, y_test))\n",
    "print (classification_report(rfc_y_pred, y_test))\n",
    "print('-------------------------------------------------------')\n",
    "\n",
    "# 輸出梯度提升樹在測試集上的分類準確性，以及更加詳細的精確率、召回率、F1指標。\n",
    "print( 'The accuracy of gradient tree boosting is', gbc.score(X_test, y_test))\n",
    "print (classification_report(gbc_y_pred, y_test))\n",
    "print('-------------------------------------------------------')\n",
    "\n",
    "# 輸出極限梯度提升樹在測試集上的分類準確性，以及更加詳細的精確率、召回率、F1指標。\n",
    "print( 'The accuracy of extreme gradient tree boosting is', xgbc.score(X_test, y_test))\n",
    "print (classification_report(gbc_y_pred, y_test))"
   ]
  },
  {
   "cell_type": "code",
   "execution_count": null,
   "metadata": {},
   "outputs": [],
   "source": []
  }
 ],
 "metadata": {
  "kernelspec": {
   "display_name": "Python 3",
   "language": "python",
   "name": "python3"
  },
  "language_info": {
   "codemirror_mode": {
    "name": "ipython",
    "version": 3
   },
   "file_extension": ".py",
   "mimetype": "text/x-python",
   "name": "python",
   "nbconvert_exporter": "python",
   "pygments_lexer": "ipython3",
   "version": "3.7.4"
  }
 },
 "nbformat": 4,
 "nbformat_minor": 2
}
