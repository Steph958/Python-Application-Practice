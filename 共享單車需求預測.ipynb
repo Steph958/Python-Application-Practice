{
 "cells": [
  {
   "cell_type": "markdown",
   "metadata": {},
   "source": [
    "# Import"
   ]
  },
  {
   "cell_type": "code",
   "execution_count": 1,
   "metadata": {},
   "outputs": [],
   "source": [
    "import numpy as np\n",
    "import pandas as pd\n",
    "\n",
    "\n",
    "from sklearn.ensemble import RandomForestRegressor\n",
    "from datetime import datetime\n",
    "\n",
    "import matplotlib.pyplot as plt\n",
    "import seaborn as sns\n",
    "import calendar\n",
    "pd.options.mode.chained_assignment = None"
   ]
  },
  {
   "cell_type": "code",
   "execution_count": 43,
   "metadata": {},
   "outputs": [],
   "source": [
    "#匯入資料\n",
    "df_train = pd.read_csv('C:/Users/USER/Desktop/Github/Data Used/BikeSharedDemand_train.csv')\n",
    "df_test = pd.read_csv('C:/Users/USER/Desktop/Github/Data Used/BikeSharedDemand_test.csv')"
   ]
  },
  {
   "cell_type": "code",
   "execution_count": 44,
   "metadata": {},
   "outputs": [],
   "source": [
    "#養成備份的習慣~\n",
    "df_train_backup1 = df_train\n",
    "df_test_backup1 = df_test"
   ]
  },
  {
   "cell_type": "code",
   "execution_count": 45,
   "metadata": {},
   "outputs": [
    {
     "name": "stdout",
     "output_type": "stream",
     "text": [
      "<class 'pandas.core.frame.DataFrame'>\n",
      "RangeIndex: 10886 entries, 0 to 10885\n",
      "Data columns (total 12 columns):\n",
      "datetime      10886 non-null object\n",
      "season        10886 non-null int64\n",
      "holiday       10886 non-null int64\n",
      "workingday    10886 non-null int64\n",
      "weather       10886 non-null int64\n",
      "temp          10886 non-null float64\n",
      "atemp         10886 non-null float64\n",
      "humidity      10886 non-null int64\n",
      "windspeed     10886 non-null float64\n",
      "casual        10886 non-null int64\n",
      "registered    10886 non-null int64\n",
      "count         10886 non-null int64\n",
      "dtypes: float64(3), int64(8), object(1)\n",
      "memory usage: 1020.7+ KB\n"
     ]
    }
   ],
   "source": [
    "df_train.info()"
   ]
  },
  {
   "cell_type": "code",
   "execution_count": 46,
   "metadata": {},
   "outputs": [
    {
     "name": "stdout",
     "output_type": "stream",
     "text": [
      "<class 'pandas.core.frame.DataFrame'>\n",
      "RangeIndex: 6493 entries, 0 to 6492\n",
      "Data columns (total 9 columns):\n",
      "datetime      6493 non-null object\n",
      "season        6493 non-null int64\n",
      "holiday       6493 non-null int64\n",
      "workingday    6493 non-null int64\n",
      "weather       6493 non-null int64\n",
      "temp          6493 non-null float64\n",
      "atemp         6493 non-null float64\n",
      "humidity      6493 non-null int64\n",
      "windspeed     6493 non-null float64\n",
      "dtypes: float64(3), int64(5), object(1)\n",
      "memory usage: 456.7+ KB\n"
     ]
    }
   ],
   "source": [
    "df_test.info()"
   ]
  },
  {
   "cell_type": "markdown",
   "metadata": {},
   "source": [
    "# Preprocessing"
   ]
  },
  {
   "cell_type": "markdown",
   "metadata": {},
   "source": [
    "發現資料處理得很好都沒有空值！但別開心得太早！\n",
    "\n",
    "(保持對資料的警覺，有可能他們提供的資料先被一些不好的方法的填補了空值)~~"
   ]
  },
  {
   "cell_type": "code",
   "execution_count": 47,
   "metadata": {},
   "outputs": [
    {
     "data": {
      "text/html": [
       "<div>\n",
       "<style scoped>\n",
       "    .dataframe tbody tr th:only-of-type {\n",
       "        vertical-align: middle;\n",
       "    }\n",
       "\n",
       "    .dataframe tbody tr th {\n",
       "        vertical-align: top;\n",
       "    }\n",
       "\n",
       "    .dataframe thead th {\n",
       "        text-align: right;\n",
       "    }\n",
       "</style>\n",
       "<table border=\"1\" class=\"dataframe\">\n",
       "  <thead>\n",
       "    <tr style=\"text-align: right;\">\n",
       "      <th></th>\n",
       "      <th>season</th>\n",
       "      <th>holiday</th>\n",
       "      <th>workingday</th>\n",
       "      <th>weather</th>\n",
       "      <th>temp</th>\n",
       "      <th>atemp</th>\n",
       "      <th>humidity</th>\n",
       "      <th>windspeed</th>\n",
       "      <th>casual</th>\n",
       "      <th>registered</th>\n",
       "      <th>count</th>\n",
       "    </tr>\n",
       "  </thead>\n",
       "  <tbody>\n",
       "    <tr>\n",
       "      <td>count</td>\n",
       "      <td>10886.000000</td>\n",
       "      <td>10886.000000</td>\n",
       "      <td>10886.000000</td>\n",
       "      <td>10886.000000</td>\n",
       "      <td>10886.00000</td>\n",
       "      <td>10886.000000</td>\n",
       "      <td>10886.000000</td>\n",
       "      <td>10886.000000</td>\n",
       "      <td>10886.000000</td>\n",
       "      <td>10886.000000</td>\n",
       "      <td>10886.000000</td>\n",
       "    </tr>\n",
       "    <tr>\n",
       "      <td>mean</td>\n",
       "      <td>2.506614</td>\n",
       "      <td>0.028569</td>\n",
       "      <td>0.680875</td>\n",
       "      <td>1.418427</td>\n",
       "      <td>20.23086</td>\n",
       "      <td>23.655084</td>\n",
       "      <td>61.886460</td>\n",
       "      <td>12.799395</td>\n",
       "      <td>36.021955</td>\n",
       "      <td>155.552177</td>\n",
       "      <td>191.574132</td>\n",
       "    </tr>\n",
       "    <tr>\n",
       "      <td>std</td>\n",
       "      <td>1.116174</td>\n",
       "      <td>0.166599</td>\n",
       "      <td>0.466159</td>\n",
       "      <td>0.633839</td>\n",
       "      <td>7.79159</td>\n",
       "      <td>8.474601</td>\n",
       "      <td>19.245033</td>\n",
       "      <td>8.164537</td>\n",
       "      <td>49.960477</td>\n",
       "      <td>151.039033</td>\n",
       "      <td>181.144454</td>\n",
       "    </tr>\n",
       "    <tr>\n",
       "      <td>min</td>\n",
       "      <td>1.000000</td>\n",
       "      <td>0.000000</td>\n",
       "      <td>0.000000</td>\n",
       "      <td>1.000000</td>\n",
       "      <td>0.82000</td>\n",
       "      <td>0.760000</td>\n",
       "      <td>0.000000</td>\n",
       "      <td>0.000000</td>\n",
       "      <td>0.000000</td>\n",
       "      <td>0.000000</td>\n",
       "      <td>1.000000</td>\n",
       "    </tr>\n",
       "    <tr>\n",
       "      <td>25%</td>\n",
       "      <td>2.000000</td>\n",
       "      <td>0.000000</td>\n",
       "      <td>0.000000</td>\n",
       "      <td>1.000000</td>\n",
       "      <td>13.94000</td>\n",
       "      <td>16.665000</td>\n",
       "      <td>47.000000</td>\n",
       "      <td>7.001500</td>\n",
       "      <td>4.000000</td>\n",
       "      <td>36.000000</td>\n",
       "      <td>42.000000</td>\n",
       "    </tr>\n",
       "    <tr>\n",
       "      <td>50%</td>\n",
       "      <td>3.000000</td>\n",
       "      <td>0.000000</td>\n",
       "      <td>1.000000</td>\n",
       "      <td>1.000000</td>\n",
       "      <td>20.50000</td>\n",
       "      <td>24.240000</td>\n",
       "      <td>62.000000</td>\n",
       "      <td>12.998000</td>\n",
       "      <td>17.000000</td>\n",
       "      <td>118.000000</td>\n",
       "      <td>145.000000</td>\n",
       "    </tr>\n",
       "    <tr>\n",
       "      <td>75%</td>\n",
       "      <td>4.000000</td>\n",
       "      <td>0.000000</td>\n",
       "      <td>1.000000</td>\n",
       "      <td>2.000000</td>\n",
       "      <td>26.24000</td>\n",
       "      <td>31.060000</td>\n",
       "      <td>77.000000</td>\n",
       "      <td>16.997900</td>\n",
       "      <td>49.000000</td>\n",
       "      <td>222.000000</td>\n",
       "      <td>284.000000</td>\n",
       "    </tr>\n",
       "    <tr>\n",
       "      <td>max</td>\n",
       "      <td>4.000000</td>\n",
       "      <td>1.000000</td>\n",
       "      <td>1.000000</td>\n",
       "      <td>4.000000</td>\n",
       "      <td>41.00000</td>\n",
       "      <td>45.455000</td>\n",
       "      <td>100.000000</td>\n",
       "      <td>56.996900</td>\n",
       "      <td>367.000000</td>\n",
       "      <td>886.000000</td>\n",
       "      <td>977.000000</td>\n",
       "    </tr>\n",
       "  </tbody>\n",
       "</table>\n",
       "</div>"
      ],
      "text/plain": [
       "             season       holiday    workingday       weather         temp  \\\n",
       "count  10886.000000  10886.000000  10886.000000  10886.000000  10886.00000   \n",
       "mean       2.506614      0.028569      0.680875      1.418427     20.23086   \n",
       "std        1.116174      0.166599      0.466159      0.633839      7.79159   \n",
       "min        1.000000      0.000000      0.000000      1.000000      0.82000   \n",
       "25%        2.000000      0.000000      0.000000      1.000000     13.94000   \n",
       "50%        3.000000      0.000000      1.000000      1.000000     20.50000   \n",
       "75%        4.000000      0.000000      1.000000      2.000000     26.24000   \n",
       "max        4.000000      1.000000      1.000000      4.000000     41.00000   \n",
       "\n",
       "              atemp      humidity     windspeed        casual    registered  \\\n",
       "count  10886.000000  10886.000000  10886.000000  10886.000000  10886.000000   \n",
       "mean      23.655084     61.886460     12.799395     36.021955    155.552177   \n",
       "std        8.474601     19.245033      8.164537     49.960477    151.039033   \n",
       "min        0.760000      0.000000      0.000000      0.000000      0.000000   \n",
       "25%       16.665000     47.000000      7.001500      4.000000     36.000000   \n",
       "50%       24.240000     62.000000     12.998000     17.000000    118.000000   \n",
       "75%       31.060000     77.000000     16.997900     49.000000    222.000000   \n",
       "max       45.455000    100.000000     56.996900    367.000000    886.000000   \n",
       "\n",
       "              count  \n",
       "count  10886.000000  \n",
       "mean     191.574132  \n",
       "std      181.144454  \n",
       "min        1.000000  \n",
       "25%       42.000000  \n",
       "50%      145.000000  \n",
       "75%      284.000000  \n",
       "max      977.000000  "
      ]
     },
     "execution_count": 47,
     "metadata": {},
     "output_type": "execute_result"
    }
   ],
   "source": [
    "#看看資料分佈:\n",
    "df_train.describe()"
   ]
  },
  {
   "cell_type": "code",
   "execution_count": 48,
   "metadata": {},
   "outputs": [
    {
     "name": "stdout",
     "output_type": "stream",
     "text": [
      "The shape of data before remove outliers:  (10886, 12)\n"
     ]
    }
   ],
   "source": [
    "#確認一下離群值:\n",
    "print(\"The shape of data before remove outliers: \",df_train.shape)\n",
    "\n",
    "#超過正負3倍標準差定義為離群值:\n",
    "df_train = df_train[np.abs(df_train[\"count\"]-df_train[\"count\"].mean())<=(3*df_train[\"count\"].std())]\n",
    "df_train = df_train[np.abs(df_train[\"registered\"]-df_train[\"registered\"].mean())<=(3*df_train[\"registered\"].std())]\n",
    "df_train = df_train[np.abs(df_train[\"casual\"]-df_train[\"casual\"].mean())<=(3*df_train[\"casual\"].std())]\n"
   ]
  },
  {
   "cell_type": "code",
   "execution_count": 49,
   "metadata": {},
   "outputs": [
    {
     "name": "stdout",
     "output_type": "stream",
     "text": [
      "The shape of data after remove outliers:  (10282, 12)\n"
     ]
    }
   ],
   "source": [
    "print(\"The shape of data after remove outliers: \",df_train.shape)"
   ]
  },
  {
   "cell_type": "code",
   "execution_count": 50,
   "metadata": {},
   "outputs": [
    {
     "name": "stdout",
     "output_type": "stream",
     "text": [
      "<class 'pandas.core.frame.DataFrame'>\n",
      "Int64Index: 10282 entries, 0 to 10885\n",
      "Data columns (total 12 columns):\n",
      "datetime      10282 non-null object\n",
      "season        10282 non-null int64\n",
      "holiday       10282 non-null int64\n",
      "workingday    10282 non-null int64\n",
      "weather       10282 non-null int64\n",
      "temp          10282 non-null float64\n",
      "atemp         10282 non-null float64\n",
      "humidity      10282 non-null int64\n",
      "windspeed     10282 non-null float64\n",
      "casual        10282 non-null int64\n",
      "registered    10282 non-null int64\n",
      "count         10282 non-null int64\n",
      "dtypes: float64(3), int64(8), object(1)\n",
      "memory usage: 1.0+ MB\n"
     ]
    }
   ],
   "source": [
    "df_train.info()"
   ]
  },
  {
   "cell_type": "code",
   "execution_count": 51,
   "metadata": {},
   "outputs": [],
   "source": [
    "#養成備份的好習慣~~\n",
    "df_train_backup2 = df_train"
   ]
  },
  {
   "cell_type": "code",
   "execution_count": 52,
   "metadata": {},
   "outputs": [],
   "source": [
    "#df_train = df_train_backup2"
   ]
  },
  {
   "cell_type": "code",
   "execution_count": 53,
   "metadata": {},
   "outputs": [],
   "source": [
    "#為了處理時間格式問題，先合併資料集:\n",
    "data = df_train.append(df_test,sort=False)\n",
    "data.reset_index(inplace = True)\n",
    "data.drop('index',inplace = True,axis = 1)"
   ]
  },
  {
   "cell_type": "code",
   "execution_count": 54,
   "metadata": {},
   "outputs": [
    {
     "data": {
      "text/html": [
       "<div>\n",
       "<style scoped>\n",
       "    .dataframe tbody tr th:only-of-type {\n",
       "        vertical-align: middle;\n",
       "    }\n",
       "\n",
       "    .dataframe tbody tr th {\n",
       "        vertical-align: top;\n",
       "    }\n",
       "\n",
       "    .dataframe thead th {\n",
       "        text-align: right;\n",
       "    }\n",
       "</style>\n",
       "<table border=\"1\" class=\"dataframe\">\n",
       "  <thead>\n",
       "    <tr style=\"text-align: right;\">\n",
       "      <th></th>\n",
       "      <th>datetime</th>\n",
       "      <th>season</th>\n",
       "      <th>holiday</th>\n",
       "      <th>workingday</th>\n",
       "      <th>weather</th>\n",
       "      <th>temp</th>\n",
       "      <th>atemp</th>\n",
       "      <th>humidity</th>\n",
       "      <th>windspeed</th>\n",
       "      <th>casual</th>\n",
       "      <th>registered</th>\n",
       "      <th>count</th>\n",
       "    </tr>\n",
       "  </thead>\n",
       "  <tbody>\n",
       "    <tr>\n",
       "      <td>0</td>\n",
       "      <td>2011-01-01 00:00:00</td>\n",
       "      <td>1</td>\n",
       "      <td>0</td>\n",
       "      <td>0</td>\n",
       "      <td>1</td>\n",
       "      <td>9.84</td>\n",
       "      <td>14.395</td>\n",
       "      <td>81</td>\n",
       "      <td>0.0</td>\n",
       "      <td>3.0</td>\n",
       "      <td>13.0</td>\n",
       "      <td>16.0</td>\n",
       "    </tr>\n",
       "    <tr>\n",
       "      <td>1</td>\n",
       "      <td>2011-01-01 01:00:00</td>\n",
       "      <td>1</td>\n",
       "      <td>0</td>\n",
       "      <td>0</td>\n",
       "      <td>1</td>\n",
       "      <td>9.02</td>\n",
       "      <td>13.635</td>\n",
       "      <td>80</td>\n",
       "      <td>0.0</td>\n",
       "      <td>8.0</td>\n",
       "      <td>32.0</td>\n",
       "      <td>40.0</td>\n",
       "    </tr>\n",
       "    <tr>\n",
       "      <td>2</td>\n",
       "      <td>2011-01-01 02:00:00</td>\n",
       "      <td>1</td>\n",
       "      <td>0</td>\n",
       "      <td>0</td>\n",
       "      <td>1</td>\n",
       "      <td>9.02</td>\n",
       "      <td>13.635</td>\n",
       "      <td>80</td>\n",
       "      <td>0.0</td>\n",
       "      <td>5.0</td>\n",
       "      <td>27.0</td>\n",
       "      <td>32.0</td>\n",
       "    </tr>\n",
       "    <tr>\n",
       "      <td>3</td>\n",
       "      <td>2011-01-01 03:00:00</td>\n",
       "      <td>1</td>\n",
       "      <td>0</td>\n",
       "      <td>0</td>\n",
       "      <td>1</td>\n",
       "      <td>9.84</td>\n",
       "      <td>14.395</td>\n",
       "      <td>75</td>\n",
       "      <td>0.0</td>\n",
       "      <td>3.0</td>\n",
       "      <td>10.0</td>\n",
       "      <td>13.0</td>\n",
       "    </tr>\n",
       "    <tr>\n",
       "      <td>4</td>\n",
       "      <td>2011-01-01 04:00:00</td>\n",
       "      <td>1</td>\n",
       "      <td>0</td>\n",
       "      <td>0</td>\n",
       "      <td>1</td>\n",
       "      <td>9.84</td>\n",
       "      <td>14.395</td>\n",
       "      <td>75</td>\n",
       "      <td>0.0</td>\n",
       "      <td>0.0</td>\n",
       "      <td>1.0</td>\n",
       "      <td>1.0</td>\n",
       "    </tr>\n",
       "  </tbody>\n",
       "</table>\n",
       "</div>"
      ],
      "text/plain": [
       "              datetime  season  holiday  workingday  weather  temp   atemp  \\\n",
       "0  2011-01-01 00:00:00       1        0           0        1  9.84  14.395   \n",
       "1  2011-01-01 01:00:00       1        0           0        1  9.02  13.635   \n",
       "2  2011-01-01 02:00:00       1        0           0        1  9.02  13.635   \n",
       "3  2011-01-01 03:00:00       1        0           0        1  9.84  14.395   \n",
       "4  2011-01-01 04:00:00       1        0           0        1  9.84  14.395   \n",
       "\n",
       "   humidity  windspeed  casual  registered  count  \n",
       "0        81        0.0     3.0        13.0   16.0  \n",
       "1        80        0.0     8.0        32.0   40.0  \n",
       "2        80        0.0     5.0        27.0   32.0  \n",
       "3        75        0.0     3.0        10.0   13.0  \n",
       "4        75        0.0     0.0         1.0    1.0  "
      ]
     },
     "execution_count": 54,
     "metadata": {},
     "output_type": "execute_result"
    }
   ],
   "source": [
    "data.head()"
   ]
  },
  {
   "cell_type": "markdown",
   "metadata": {},
   "source": [
    "使用datetime.strptime()來切割時間:"
   ]
  },
  {
   "cell_type": "code",
   "execution_count": 55,
   "metadata": {},
   "outputs": [],
   "source": [
    "from datetime import datetime"
   ]
  },
  {
   "cell_type": "code",
   "execution_count": 56,
   "metadata": {},
   "outputs": [],
   "source": [
    "data[\"weekday\"] = data[\"datetime\"].apply(lambda x : datetime.strptime(x, \"%Y-%m-%d %H:%M:%S\").weekday())"
   ]
  },
  {
   "cell_type": "code",
   "execution_count": 57,
   "metadata": {},
   "outputs": [],
   "source": [
    "data[\"year\"] = data.datetime.apply(lambda x: datetime.strptime(x,\"%Y-%m-%d %H:%M:%S\").year)"
   ]
  },
  {
   "cell_type": "code",
   "execution_count": 58,
   "metadata": {},
   "outputs": [],
   "source": [
    "data[\"month\"] = data.datetime.apply(lambda x: datetime.strptime(x,\"%Y-%m-%d %H:%M:%S\").month)"
   ]
  },
  {
   "cell_type": "code",
   "execution_count": 59,
   "metadata": {},
   "outputs": [],
   "source": [
    "data[\"hour\"] = data.datetime.apply(lambda x: datetime.strptime(x,\"%Y-%m-%d %H:%M:%S\").hour)"
   ]
  },
  {
   "cell_type": "code",
   "execution_count": 60,
   "metadata": {},
   "outputs": [],
   "source": [
    "data[\"date\"] = data.datetime.apply(lambda x: datetime.strptime(x,\"%Y-%m-%d %H:%M:%S\").date())"
   ]
  },
  {
   "cell_type": "code",
   "execution_count": 61,
   "metadata": {},
   "outputs": [
    {
     "data": {
      "text/html": [
       "<div>\n",
       "<style scoped>\n",
       "    .dataframe tbody tr th:only-of-type {\n",
       "        vertical-align: middle;\n",
       "    }\n",
       "\n",
       "    .dataframe tbody tr th {\n",
       "        vertical-align: top;\n",
       "    }\n",
       "\n",
       "    .dataframe thead th {\n",
       "        text-align: right;\n",
       "    }\n",
       "</style>\n",
       "<table border=\"1\" class=\"dataframe\">\n",
       "  <thead>\n",
       "    <tr style=\"text-align: right;\">\n",
       "      <th></th>\n",
       "      <th>datetime</th>\n",
       "      <th>season</th>\n",
       "      <th>holiday</th>\n",
       "      <th>workingday</th>\n",
       "      <th>weather</th>\n",
       "      <th>temp</th>\n",
       "      <th>atemp</th>\n",
       "      <th>humidity</th>\n",
       "      <th>windspeed</th>\n",
       "      <th>casual</th>\n",
       "      <th>registered</th>\n",
       "      <th>count</th>\n",
       "      <th>weekday</th>\n",
       "      <th>year</th>\n",
       "      <th>month</th>\n",
       "      <th>hour</th>\n",
       "      <th>date</th>\n",
       "    </tr>\n",
       "  </thead>\n",
       "  <tbody>\n",
       "    <tr>\n",
       "      <td>0</td>\n",
       "      <td>2011-01-01 00:00:00</td>\n",
       "      <td>1</td>\n",
       "      <td>0</td>\n",
       "      <td>0</td>\n",
       "      <td>1</td>\n",
       "      <td>9.84</td>\n",
       "      <td>14.395</td>\n",
       "      <td>81</td>\n",
       "      <td>0.0</td>\n",
       "      <td>3.0</td>\n",
       "      <td>13.0</td>\n",
       "      <td>16.0</td>\n",
       "      <td>5</td>\n",
       "      <td>2011</td>\n",
       "      <td>1</td>\n",
       "      <td>0</td>\n",
       "      <td>2011-01-01</td>\n",
       "    </tr>\n",
       "    <tr>\n",
       "      <td>1</td>\n",
       "      <td>2011-01-01 01:00:00</td>\n",
       "      <td>1</td>\n",
       "      <td>0</td>\n",
       "      <td>0</td>\n",
       "      <td>1</td>\n",
       "      <td>9.02</td>\n",
       "      <td>13.635</td>\n",
       "      <td>80</td>\n",
       "      <td>0.0</td>\n",
       "      <td>8.0</td>\n",
       "      <td>32.0</td>\n",
       "      <td>40.0</td>\n",
       "      <td>5</td>\n",
       "      <td>2011</td>\n",
       "      <td>1</td>\n",
       "      <td>1</td>\n",
       "      <td>2011-01-01</td>\n",
       "    </tr>\n",
       "    <tr>\n",
       "      <td>2</td>\n",
       "      <td>2011-01-01 02:00:00</td>\n",
       "      <td>1</td>\n",
       "      <td>0</td>\n",
       "      <td>0</td>\n",
       "      <td>1</td>\n",
       "      <td>9.02</td>\n",
       "      <td>13.635</td>\n",
       "      <td>80</td>\n",
       "      <td>0.0</td>\n",
       "      <td>5.0</td>\n",
       "      <td>27.0</td>\n",
       "      <td>32.0</td>\n",
       "      <td>5</td>\n",
       "      <td>2011</td>\n",
       "      <td>1</td>\n",
       "      <td>2</td>\n",
       "      <td>2011-01-01</td>\n",
       "    </tr>\n",
       "    <tr>\n",
       "      <td>3</td>\n",
       "      <td>2011-01-01 03:00:00</td>\n",
       "      <td>1</td>\n",
       "      <td>0</td>\n",
       "      <td>0</td>\n",
       "      <td>1</td>\n",
       "      <td>9.84</td>\n",
       "      <td>14.395</td>\n",
       "      <td>75</td>\n",
       "      <td>0.0</td>\n",
       "      <td>3.0</td>\n",
       "      <td>10.0</td>\n",
       "      <td>13.0</td>\n",
       "      <td>5</td>\n",
       "      <td>2011</td>\n",
       "      <td>1</td>\n",
       "      <td>3</td>\n",
       "      <td>2011-01-01</td>\n",
       "    </tr>\n",
       "    <tr>\n",
       "      <td>4</td>\n",
       "      <td>2011-01-01 04:00:00</td>\n",
       "      <td>1</td>\n",
       "      <td>0</td>\n",
       "      <td>0</td>\n",
       "      <td>1</td>\n",
       "      <td>9.84</td>\n",
       "      <td>14.395</td>\n",
       "      <td>75</td>\n",
       "      <td>0.0</td>\n",
       "      <td>0.0</td>\n",
       "      <td>1.0</td>\n",
       "      <td>1.0</td>\n",
       "      <td>5</td>\n",
       "      <td>2011</td>\n",
       "      <td>1</td>\n",
       "      <td>4</td>\n",
       "      <td>2011-01-01</td>\n",
       "    </tr>\n",
       "  </tbody>\n",
       "</table>\n",
       "</div>"
      ],
      "text/plain": [
       "              datetime  season  holiday  workingday  weather  temp   atemp  \\\n",
       "0  2011-01-01 00:00:00       1        0           0        1  9.84  14.395   \n",
       "1  2011-01-01 01:00:00       1        0           0        1  9.02  13.635   \n",
       "2  2011-01-01 02:00:00       1        0           0        1  9.02  13.635   \n",
       "3  2011-01-01 03:00:00       1        0           0        1  9.84  14.395   \n",
       "4  2011-01-01 04:00:00       1        0           0        1  9.84  14.395   \n",
       "\n",
       "   humidity  windspeed  casual  registered  count  weekday  year  month  hour  \\\n",
       "0        81        0.0     3.0        13.0   16.0        5  2011      1     0   \n",
       "1        80        0.0     8.0        32.0   40.0        5  2011      1     1   \n",
       "2        80        0.0     5.0        27.0   32.0        5  2011      1     2   \n",
       "3        75        0.0     3.0        10.0   13.0        5  2011      1     3   \n",
       "4        75        0.0     0.0         1.0    1.0        5  2011      1     4   \n",
       "\n",
       "         date  \n",
       "0  2011-01-01  \n",
       "1  2011-01-01  \n",
       "2  2011-01-01  \n",
       "3  2011-01-01  \n",
       "4  2011-01-01  "
      ]
     },
     "execution_count": 61,
     "metadata": {},
     "output_type": "execute_result"
    }
   ],
   "source": [
    "data.head()"
   ]
  },
  {
   "cell_type": "markdown",
   "metadata": {},
   "source": [
    "# EDA"
   ]
  },
  {
   "cell_type": "markdown",
   "metadata": {},
   "source": [
    "觀察數值型態的變數:\n",
    "    \n",
    "    1.)temp\n",
    "    \n",
    "    2.)atemp\n",
    "    \n",
    "    3.)humidty\n",
    "    \n",
    "    4.)windspeed"
   ]
  },
  {
   "cell_type": "code",
   "execution_count": 62,
   "metadata": {},
   "outputs": [
    {
     "data": {
      "text/plain": [
       "[Text(0.5, 0, 'windspeed'), Text(0.5, 1.0, 'distribution of windspeed')]"
      ]
     },
     "execution_count": 62,
     "metadata": {},
     "output_type": "execute_result"
    },
    {
     "data": {
      "image/png": "[encoded data removed]",
      "text/plain": [
       "<Figure size 864x720 with 4 Axes>"
      ]
     },
     "metadata": {
      "needs_background": "light"
     },
     "output_type": "display_data"
    }
   ],
   "source": [
    "#使用seaborn的displot\n",
    "# histagram + kernal\n",
    "\n",
    "fig, axes = plt.subplots(nrows=2,ncols=2) #4張圖一起顯示\n",
    "fig.set_size_inches(12, 10)\n",
    "\n",
    "sns.distplot(data[\"temp\"],ax=axes[0][0])\n",
    "sns.distplot(data[\"atemp\"],ax=axes[0][1])\n",
    "sns.distplot(data[\"humidity\"],ax=axes[1][0])\n",
    "sns.distplot(data[\"windspeed\"],ax=axes[1][1])\n",
    "\n",
    "axes[0][0].set(xlabel='temp',title=\"distribution of temp\")\n",
    "axes[0][1].set(xlabel='atemp',title=\"distribution of atemp\")\n",
    "axes[1][0].set(xlabel='humidity',title=\"distribution of humidity\")\n",
    "axes[1][1].set(xlabel='windspeed',title=\"distribution of windspeed\")"
   ]
  },
  {
   "cell_type": "markdown",
   "metadata": {},
   "source": [
    "在右下方風速的圖可以發現風速為0的值非常多，而靠近0的(大約風速6,7以內都沒有出現)，中間也出現許多沒有任何值的情況，因此可以大概推論風速0是風速太小量不到或是只要是風速為空值都被資料提供方補上0！\n",
    "\n",
    "這種的0會對大部分的模型造成預估失準，因此我們要將風速為0的值重新估計。"
   ]
  },
  {
   "cell_type": "markdown",
   "metadata": {},
   "source": [
    "先將資料分為1.)風速為0 以及2.)風速不為0:\n",
    "\n",
    "    1.)視為遺漏值，需要填補(這裡用隨機森林方法估計)\n",
    "\n",
    "    2.)用作測試資料來訓練隨機森林"
   ]
  },
  {
   "cell_type": "code",
   "execution_count": 63,
   "metadata": {},
   "outputs": [],
   "source": [
    "dataWind0 = data[data[\"windspeed\"]==0]\n",
    "dataWindNot0 = data[data[\"windspeed\"]!=0] #預測模型所使用的訓練資料"
   ]
  },
  {
   "cell_type": "code",
   "execution_count": 64,
   "metadata": {},
   "outputs": [],
   "source": [
    "rfModel_wind_missingValue = RandomForestRegressor(n_estimators=1000,\n",
    "                                                 random_state=42)"
   ]
  },
  {
   "cell_type": "code",
   "execution_count": 65,
   "metadata": {},
   "outputs": [],
   "source": [
    "training_columns = [\"season\",\"weather\",\"humidity\",\"month\",\"temp\",\"year\",\"atemp\",\"hour\"] #要用這些欄位來預測遺失的windspeed"
   ]
  },
  {
   "cell_type": "code",
   "execution_count": 66,
   "metadata": {},
   "outputs": [
    {
     "data": {
      "text/html": [
       "<div>\n",
       "<style scoped>\n",
       "    .dataframe tbody tr th:only-of-type {\n",
       "        vertical-align: middle;\n",
       "    }\n",
       "\n",
       "    .dataframe tbody tr th {\n",
       "        vertical-align: top;\n",
       "    }\n",
       "\n",
       "    .dataframe thead th {\n",
       "        text-align: right;\n",
       "    }\n",
       "</style>\n",
       "<table border=\"1\" class=\"dataframe\">\n",
       "  <thead>\n",
       "    <tr style=\"text-align: right;\">\n",
       "      <th></th>\n",
       "      <th>season</th>\n",
       "      <th>weather</th>\n",
       "      <th>humidity</th>\n",
       "      <th>month</th>\n",
       "      <th>temp</th>\n",
       "      <th>year</th>\n",
       "      <th>atemp</th>\n",
       "      <th>hour</th>\n",
       "    </tr>\n",
       "  </thead>\n",
       "  <tbody>\n",
       "    <tr>\n",
       "      <td>5</td>\n",
       "      <td>1</td>\n",
       "      <td>2</td>\n",
       "      <td>75</td>\n",
       "      <td>1</td>\n",
       "      <td>9.84</td>\n",
       "      <td>2011</td>\n",
       "      <td>12.880</td>\n",
       "      <td>5</td>\n",
       "    </tr>\n",
       "    <tr>\n",
       "      <td>10</td>\n",
       "      <td>1</td>\n",
       "      <td>1</td>\n",
       "      <td>76</td>\n",
       "      <td>1</td>\n",
       "      <td>15.58</td>\n",
       "      <td>2011</td>\n",
       "      <td>19.695</td>\n",
       "      <td>10</td>\n",
       "    </tr>\n",
       "    <tr>\n",
       "      <td>11</td>\n",
       "      <td>1</td>\n",
       "      <td>1</td>\n",
       "      <td>81</td>\n",
       "      <td>1</td>\n",
       "      <td>14.76</td>\n",
       "      <td>2011</td>\n",
       "      <td>16.665</td>\n",
       "      <td>11</td>\n",
       "    </tr>\n",
       "    <tr>\n",
       "      <td>12</td>\n",
       "      <td>1</td>\n",
       "      <td>1</td>\n",
       "      <td>77</td>\n",
       "      <td>1</td>\n",
       "      <td>17.22</td>\n",
       "      <td>2011</td>\n",
       "      <td>21.210</td>\n",
       "      <td>12</td>\n",
       "    </tr>\n",
       "    <tr>\n",
       "      <td>13</td>\n",
       "      <td>1</td>\n",
       "      <td>2</td>\n",
       "      <td>72</td>\n",
       "      <td>1</td>\n",
       "      <td>18.86</td>\n",
       "      <td>2011</td>\n",
       "      <td>22.725</td>\n",
       "      <td>13</td>\n",
       "    </tr>\n",
       "    <tr>\n",
       "      <td>...</td>\n",
       "      <td>...</td>\n",
       "      <td>...</td>\n",
       "      <td>...</td>\n",
       "      <td>...</td>\n",
       "      <td>...</td>\n",
       "      <td>...</td>\n",
       "      <td>...</td>\n",
       "      <td>...</td>\n",
       "    </tr>\n",
       "    <tr>\n",
       "      <td>16770</td>\n",
       "      <td>1</td>\n",
       "      <td>2</td>\n",
       "      <td>60</td>\n",
       "      <td>12</td>\n",
       "      <td>10.66</td>\n",
       "      <td>2012</td>\n",
       "      <td>12.880</td>\n",
       "      <td>19</td>\n",
       "    </tr>\n",
       "    <tr>\n",
       "      <td>16771</td>\n",
       "      <td>1</td>\n",
       "      <td>2</td>\n",
       "      <td>60</td>\n",
       "      <td>12</td>\n",
       "      <td>10.66</td>\n",
       "      <td>2012</td>\n",
       "      <td>12.880</td>\n",
       "      <td>20</td>\n",
       "    </tr>\n",
       "    <tr>\n",
       "      <td>16772</td>\n",
       "      <td>1</td>\n",
       "      <td>1</td>\n",
       "      <td>60</td>\n",
       "      <td>12</td>\n",
       "      <td>10.66</td>\n",
       "      <td>2012</td>\n",
       "      <td>12.880</td>\n",
       "      <td>21</td>\n",
       "    </tr>\n",
       "    <tr>\n",
       "      <td>16773</td>\n",
       "      <td>1</td>\n",
       "      <td>1</td>\n",
       "      <td>56</td>\n",
       "      <td>12</td>\n",
       "      <td>10.66</td>\n",
       "      <td>2012</td>\n",
       "      <td>13.635</td>\n",
       "      <td>22</td>\n",
       "    </tr>\n",
       "    <tr>\n",
       "      <td>16774</td>\n",
       "      <td>1</td>\n",
       "      <td>1</td>\n",
       "      <td>65</td>\n",
       "      <td>12</td>\n",
       "      <td>10.66</td>\n",
       "      <td>2012</td>\n",
       "      <td>13.635</td>\n",
       "      <td>23</td>\n",
       "    </tr>\n",
       "  </tbody>\n",
       "</table>\n",
       "<p>14653 rows × 8 columns</p>\n",
       "</div>"
      ],
      "text/plain": [
       "       season  weather  humidity  month   temp  year   atemp  hour\n",
       "5           1        2        75      1   9.84  2011  12.880     5\n",
       "10          1        1        76      1  15.58  2011  19.695    10\n",
       "11          1        1        81      1  14.76  2011  16.665    11\n",
       "12          1        1        77      1  17.22  2011  21.210    12\n",
       "13          1        2        72      1  18.86  2011  22.725    13\n",
       "...       ...      ...       ...    ...    ...   ...     ...   ...\n",
       "16770       1        2        60     12  10.66  2012  12.880    19\n",
       "16771       1        2        60     12  10.66  2012  12.880    20\n",
       "16772       1        1        60     12  10.66  2012  12.880    21\n",
       "16773       1        1        56     12  10.66  2012  13.635    22\n",
       "16774       1        1        65     12  10.66  2012  13.635    23\n",
       "\n",
       "[14653 rows x 8 columns]"
      ]
     },
     "execution_count": 66,
     "metadata": {},
     "output_type": "execute_result"
    }
   ],
   "source": [
    "dataWindNot0[training_columns] #預測模型所使用的訓練資料"
   ]
  },
  {
   "cell_type": "code",
   "execution_count": 67,
   "metadata": {},
   "outputs": [
    {
     "data": {
      "text/plain": [
       "5         6.0032\n",
       "10       16.9979\n",
       "11       19.0012\n",
       "12       19.0012\n",
       "13       19.9995\n",
       "          ...   \n",
       "16770    11.0014\n",
       "16771    11.0014\n",
       "16772    11.0014\n",
       "16773     8.9981\n",
       "16774     8.9981\n",
       "Name: windspeed, Length: 14653, dtype: float64"
      ]
     },
     "execution_count": 67,
     "metadata": {},
     "output_type": "execute_result"
    }
   ],
   "source": [
    "dataWindNot0[\"windspeed\"] #預測模型中的目標函數"
   ]
  },
  {
   "cell_type": "code",
   "execution_count": 68,
   "metadata": {},
   "outputs": [
    {
     "data": {
      "text/plain": [
       "RandomForestRegressor(bootstrap=True, criterion='mse', max_depth=None,\n",
       "                      max_features='auto', max_leaf_nodes=None,\n",
       "                      min_impurity_decrease=0.0, min_impurity_split=None,\n",
       "                      min_samples_leaf=1, min_samples_split=2,\n",
       "                      min_weight_fraction_leaf=0.0, n_estimators=1000,\n",
       "                      n_jobs=None, oob_score=False, random_state=42, verbose=0,\n",
       "                      warm_start=False)"
      ]
     },
     "execution_count": 68,
     "metadata": {},
     "output_type": "execute_result"
    }
   ],
   "source": [
    "rfModel_wind_missingValue.fit(dataWindNot0[training_columns],dataWindNot0[\"windspeed\"])\n",
    "\n",
    "#調參:\n",
    "#預設值:\n",
    "#RandomForestRegressor(bootstrap=True, criterion='mse', max_depth=None,\n",
    " #                     max_features='auto', max_leaf_nodes=None,\n",
    "  #                    min_impurity_decrease=0.0, min_impurity_split=None,\n",
    "   #                   min_samples_leaf=1, min_samples_split=2,\n",
    "    #                  min_weight_fraction_leaf=0.0, n_estimators=1000,\n",
    "     #                 n_jobs=None, oob_score=False, random_state=42, verbose=0,\n",
    "      #                warm_start=False)"
   ]
  },
  {
   "cell_type": "code",
   "execution_count": 69,
   "metadata": {},
   "outputs": [
    {
     "data": {
      "text/plain": [
       "array([ 6.54773647,  6.39293855,  6.32196545, ...,  8.5227551 ,\n",
       "       24.0071385 ,  9.55511589])"
      ]
     },
     "execution_count": 69,
     "metadata": {},
     "output_type": "execute_result"
    }
   ],
   "source": [
    "#用隨機森林預測遺失值:\n",
    "wind0_value = rfModel_wind_missingValue.predict(X=dataWind0[training_columns])\n",
    "wind0_value"
   ]
  },
  {
   "cell_type": "code",
   "execution_count": 70,
   "metadata": {},
   "outputs": [],
   "source": [
    "#填補:\n",
    "dataWind0[\"windspeed\"] = wind0_value\n",
    "\n",
    "data = dataWindNot0.append(dataWind0,sort = False)\n",
    "data.reset_index(inplace = True)\n",
    "data.drop('index',inplace = True, axis = 1)"
   ]
  },
  {
   "cell_type": "code",
   "execution_count": 71,
   "metadata": {},
   "outputs": [
    {
     "data": {
      "text/plain": [
       "<matplotlib.axes._subplots.AxesSubplot at 0x18c4130a3c8>"
      ]
     },
     "execution_count": 71,
     "metadata": {},
     "output_type": "execute_result"
    },
    {
     "data": {
      "image/png": "[encoded data removed]",
      "text/plain": [
       "<Figure size 432x288 with 1 Axes>"
      ]
     },
     "metadata": {
      "needs_background": "light"
     },
     "output_type": "display_data"
    }
   ],
   "source": [
    "sns.distplot(data[\"windspeed\"])  #相比之前，分布正常多了!"
   ]
  },
  {
   "cell_type": "code",
   "execution_count": 72,
   "metadata": {},
   "outputs": [],
   "source": [
    "data_backup3 = data"
   ]
  },
  {
   "cell_type": "code",
   "execution_count": 40,
   "metadata": {},
   "outputs": [],
   "source": [
    "#data = data_backup3"
   ]
  },
  {
   "cell_type": "markdown",
   "metadata": {},
   "source": [
    "觀察另三個變數:\n",
    "都有遺失值:\n",
    "\n",
    "casual        10282 non-null float64\n",
    "\n",
    "registered    10282 non-null float64\n",
    "\n",
    "count         10282 non-null float64"
   ]
  },
  {
   "cell_type": "code",
   "execution_count": 73,
   "metadata": {},
   "outputs": [],
   "source": [
    "def overview_data(df):\n",
    "    \n",
    "    print('資料全覽')\n",
    "    df.info()\n",
    "    print('---------------------------------')\n",
    "    print('rows(資料筆數): ',df.shape[0])\n",
    "    \n",
    "    print('---------------------------------')\n",
    "    print('features(特徵數):  ' , df.shape[1])\n",
    "    \n",
    "    print('---------------------------------')\n",
    "    print('Number of missing value(遺失值) :')\n",
    "    \n",
    "    print('---------------------------------')\n",
    "    print('遺失值分佈:')\n",
    "    print('---------------------------------')\n",
    "    print(df.isnull().any())\n",
    "    \n",
    "    print('---------------------------------')\n",
    "    print('遺失值總數:', df.isnull().sum().values.sum())\n",
    "    \n",
    "    print('---------------------------------')\n",
    "    print('每欄位有多少種值:')\n",
    "    print('---------------------------------')\n",
    "    print(df.nunique())"
   ]
  },
  {
   "cell_type": "code",
   "execution_count": 74,
   "metadata": {},
   "outputs": [
    {
     "name": "stdout",
     "output_type": "stream",
     "text": [
      "資料全覽\n",
      "<class 'pandas.core.frame.DataFrame'>\n",
      "RangeIndex: 16775 entries, 0 to 16774\n",
      "Data columns (total 17 columns):\n",
      "datetime      16775 non-null object\n",
      "season        16775 non-null int64\n",
      "holiday       16775 non-null int64\n",
      "workingday    16775 non-null int64\n",
      "weather       16775 non-null int64\n",
      "temp          16775 non-null float64\n",
      "atemp         16775 non-null float64\n",
      "humidity      16775 non-null int64\n",
      "windspeed     16775 non-null float64\n",
      "casual        10282 non-null float64\n",
      "registered    10282 non-null float64\n",
      "count         10282 non-null float64\n",
      "weekday       16775 non-null int64\n",
      "year          16775 non-null int64\n",
      "month         16775 non-null int64\n",
      "hour          16775 non-null int64\n",
      "date          16775 non-null object\n",
      "dtypes: float64(6), int64(9), object(2)\n",
      "memory usage: 2.2+ MB\n",
      "---------------------------------\n",
      "rows(資料筆數):  16775\n",
      "---------------------------------\n",
      "features(特徵數):   17\n",
      "---------------------------------\n",
      "Number of missing value(遺失值) :\n",
      "---------------------------------\n",
      "遺失值分佈:\n",
      "---------------------------------\n",
      "datetime      False\n",
      "season        False\n",
      "holiday       False\n",
      "workingday    False\n",
      "weather       False\n",
      "temp          False\n",
      "atemp         False\n",
      "humidity      False\n",
      "windspeed     False\n",
      "casual         True\n",
      "registered     True\n",
      "count          True\n",
      "weekday       False\n",
      "year          False\n",
      "month         False\n",
      "hour          False\n",
      "date          False\n",
      "dtype: bool\n",
      "---------------------------------\n",
      "遺失值總數: 19479\n",
      "---------------------------------\n",
      "每欄位有多少種值:\n",
      "---------------------------------\n",
      "datetime      16775\n",
      "season            4\n",
      "holiday           2\n",
      "workingday        2\n",
      "weather           4\n",
      "temp             50\n",
      "atemp            65\n",
      "humidity         89\n",
      "windspeed      2106\n",
      "casual          185\n",
      "registered      546\n",
      "count           612\n",
      "weekday           7\n",
      "year              2\n",
      "month            12\n",
      "hour             24\n",
      "date            731\n",
      "dtype: int64\n"
     ]
    }
   ],
   "source": [
    "overview_data(data)"
   ]
  },
  {
   "cell_type": "markdown",
   "metadata": {},
   "source": [
    "三個欄位有遺失值:\n",
    "casual         \n",
    "registered     \n",
    "count          "
   ]
  },
  {
   "cell_type": "markdown",
   "metadata": {},
   "source": [
    "先處理casual欄位:"
   ]
  },
  {
   "cell_type": "code",
   "execution_count": 75,
   "metadata": {},
   "outputs": [],
   "source": [
    "#先區分出預測用的訓練資料和測試資料:\n",
    "trainData = data[data[\"casual\"].isna() == False]\n",
    "testData = data[data[\"casual\"].isna() == True]\n",
    "\n",
    "#用訓練資料來訓練模型:\n",
    "rfModel_missingValue = RandomForestRegressor(n_estimators=1000,\n",
    "                                                 random_state=42)\n",
    "\n",
    "training_columns = [\"season\",\"weather\",\"humidity\",\"month\",\"temp\",\"year\",\"atemp\",\"hour\"]\n",
    "\n",
    "trainData[training_columns] #預測模型所使用的訓練資料\n",
    "\n",
    "trainData[\"casual\"] #預測模型中的目標函數\n",
    "\n",
    "#套用模型:\n",
    "rfModel_missingValue.fit(trainData[training_columns],trainData[\"casual\"])\n",
    "\n",
    "#用模型對測試資料做預測:\n",
    "fillIn_value = rfModel_missingValue.predict(X=testData[training_columns])\n",
    "fillIn_value\n",
    "\n",
    "#填補遺失值:\n",
    "testData[\"casual\"] = fillIn_value\n",
    "\n",
    "data = trainData.append(testData,sort = False)\n",
    "data.reset_index(inplace = True)\n",
    "data.drop('index',inplace = True, axis = 1)"
   ]
  },
  {
   "cell_type": "code",
   "execution_count": 76,
   "metadata": {},
   "outputs": [
    {
     "name": "stdout",
     "output_type": "stream",
     "text": [
      "<class 'pandas.core.frame.DataFrame'>\n",
      "RangeIndex: 16775 entries, 0 to 16774\n",
      "Data columns (total 17 columns):\n",
      "datetime      16775 non-null object\n",
      "season        16775 non-null int64\n",
      "holiday       16775 non-null int64\n",
      "workingday    16775 non-null int64\n",
      "weather       16775 non-null int64\n",
      "temp          16775 non-null float64\n",
      "atemp         16775 non-null float64\n",
      "humidity      16775 non-null int64\n",
      "windspeed     16775 non-null float64\n",
      "casual        16775 non-null float64\n",
      "registered    10282 non-null float64\n",
      "count         10282 non-null float64\n",
      "weekday       16775 non-null int64\n",
      "year          16775 non-null int64\n",
      "month         16775 non-null int64\n",
      "hour          16775 non-null int64\n",
      "date          16775 non-null object\n",
      "dtypes: float64(6), int64(9), object(2)\n",
      "memory usage: 2.2+ MB\n"
     ]
    }
   ],
   "source": [
    "data.info()"
   ]
  },
  {
   "cell_type": "code",
   "execution_count": 77,
   "metadata": {},
   "outputs": [],
   "source": [
    "data_backup4 = data"
   ]
  },
  {
   "cell_type": "code",
   "execution_count": 78,
   "metadata": {},
   "outputs": [],
   "source": [
    "#data = data_backup4"
   ]
  },
  {
   "cell_type": "markdown",
   "metadata": {},
   "source": [
    "處理registered欄位:"
   ]
  },
  {
   "cell_type": "code",
   "execution_count": 79,
   "metadata": {},
   "outputs": [],
   "source": [
    "#先區分出預測用的訓練資料和測試資料:\n",
    "trainData = data[data[\"registered\"].isna() == False]\n",
    "testData = data[data[\"registered\"].isna() == True]\n",
    "\n",
    "#用訓練資料來訓練模型:\n",
    "rfModel_missingValue = RandomForestRegressor(n_estimators=1000,\n",
    "                                                 random_state=42)\n",
    "\n",
    "training_columns = [\"season\",\"weather\",\"humidity\",\"month\",\"temp\",\"year\",\"atemp\",\"hour\"]\n",
    "\n",
    "trainData[training_columns] #預測模型所使用的訓練資料\n",
    "\n",
    "trainData[\"registered\"] #預測模型中的目標函數\n",
    "\n",
    "#套用模型:\n",
    "rfModel_missingValue.fit(trainData[training_columns],trainData[\"registered\"])\n",
    "\n",
    "#用模型對測試資料做預測:\n",
    "fillIn_value = rfModel_missingValue.predict(X=testData[training_columns])\n",
    "fillIn_value\n",
    "\n",
    "#填補遺失值:\n",
    "testData[\"registered\"] = fillIn_value\n",
    "\n",
    "data = trainData.append(testData,sort = False)\n",
    "data.reset_index(inplace = True)\n",
    "data.drop('index',inplace = True, axis = 1)"
   ]
  },
  {
   "cell_type": "code",
   "execution_count": 80,
   "metadata": {},
   "outputs": [
    {
     "name": "stdout",
     "output_type": "stream",
     "text": [
      "<class 'pandas.core.frame.DataFrame'>\n",
      "RangeIndex: 16775 entries, 0 to 16774\n",
      "Data columns (total 17 columns):\n",
      "datetime      16775 non-null object\n",
      "season        16775 non-null int64\n",
      "holiday       16775 non-null int64\n",
      "workingday    16775 non-null int64\n",
      "weather       16775 non-null int64\n",
      "temp          16775 non-null float64\n",
      "atemp         16775 non-null float64\n",
      "humidity      16775 non-null int64\n",
      "windspeed     16775 non-null float64\n",
      "casual        16775 non-null float64\n",
      "registered    16775 non-null float64\n",
      "count         10282 non-null float64\n",
      "weekday       16775 non-null int64\n",
      "year          16775 non-null int64\n",
      "month         16775 non-null int64\n",
      "hour          16775 non-null int64\n",
      "date          16775 non-null object\n",
      "dtypes: float64(6), int64(9), object(2)\n",
      "memory usage: 2.2+ MB\n"
     ]
    }
   ],
   "source": [
    "data.info()"
   ]
  },
  {
   "cell_type": "code",
   "execution_count": 81,
   "metadata": {},
   "outputs": [],
   "source": [
    "data_backup5 = data"
   ]
  },
  {
   "cell_type": "markdown",
   "metadata": {},
   "source": [
    "因為是目標函數，所以不處理count欄位(因為之後會根據有遺失值與否區分出測試資料和訓練資料)\n",
    "\n",
    "接下來準備進行最後的隨機森林模型，先區分出訓練資料和測試資料:"
   ]
  },
  {
   "cell_type": "code",
   "execution_count": 82,
   "metadata": {},
   "outputs": [
    {
     "name": "stdout",
     "output_type": "stream",
     "text": [
      "<class 'pandas.core.frame.DataFrame'>\n",
      "Int64Index: 10282 entries, 9027 to 9026\n",
      "Data columns (total 17 columns):\n",
      "datetime      10282 non-null object\n",
      "season        10282 non-null int64\n",
      "holiday       10282 non-null int64\n",
      "workingday    10282 non-null int64\n",
      "weather       10282 non-null int64\n",
      "temp          10282 non-null float64\n",
      "atemp         10282 non-null float64\n",
      "humidity      10282 non-null int64\n",
      "windspeed     10282 non-null float64\n",
      "casual        10282 non-null float64\n",
      "registered    10282 non-null float64\n",
      "count         10282 non-null float64\n",
      "weekday       10282 non-null int64\n",
      "year          10282 non-null int64\n",
      "month         10282 non-null int64\n",
      "hour          10282 non-null int64\n",
      "date          10282 non-null object\n",
      "dtypes: float64(6), int64(9), object(2)\n",
      "memory usage: 1.4+ MB\n"
     ]
    }
   ],
   "source": [
    "#count欄位無遺失值的部分為訓練資料集:\n",
    "\n",
    "dataTrain = data[pd.notnull(data['count'])].sort_values(by=[\"datetime\"])  \n",
    "dataTrain.info()"
   ]
  },
  {
   "cell_type": "code",
   "execution_count": 83,
   "metadata": {},
   "outputs": [
    {
     "name": "stdout",
     "output_type": "stream",
     "text": [
      "<class 'pandas.core.frame.DataFrame'>\n",
      "Int64Index: 6493 entries, 10282 to 15907\n",
      "Data columns (total 17 columns):\n",
      "datetime      6493 non-null object\n",
      "season        6493 non-null int64\n",
      "holiday       6493 non-null int64\n",
      "workingday    6493 non-null int64\n",
      "weather       6493 non-null int64\n",
      "temp          6493 non-null float64\n",
      "atemp         6493 non-null float64\n",
      "humidity      6493 non-null int64\n",
      "windspeed     6493 non-null float64\n",
      "casual        6493 non-null float64\n",
      "registered    6493 non-null float64\n",
      "count         0 non-null float64\n",
      "weekday       6493 non-null int64\n",
      "year          6493 non-null int64\n",
      "month         6493 non-null int64\n",
      "hour          6493 non-null int64\n",
      "date          6493 non-null object\n",
      "dtypes: float64(6), int64(9), object(2)\n",
      "memory usage: 913.1+ KB\n"
     ]
    }
   ],
   "source": [
    "##count欄位有遺失值的部分為測試資料集:\n",
    "\n",
    "dataTest = data[~pd.notnull(data['count'])].sort_values(by=[\"datetime\"])\n",
    "dataTest.info()"
   ]
  },
  {
   "cell_type": "code",
   "execution_count": 84,
   "metadata": {},
   "outputs": [],
   "source": [
    "datetimecol = dataTest[\"datetime\"] #這是最後輸出CSV格式的欄位，因為之後分析的時候dataTest會移除掉這欄位，所以這裡先設定起來\n",
    "\n",
    "yLabels = dataTrain[\"count\"]\n",
    "\n",
    "yLabelsLog = np.log(yLabels) #對數轉換讓他更加fit常態分佈"
   ]
  },
  {
   "cell_type": "code",
   "execution_count": 85,
   "metadata": {},
   "outputs": [
    {
     "data": {
      "text/plain": [
       "<matplotlib.axes._subplots.AxesSubplot at 0x18c40daa7c8>"
      ]
     },
     "execution_count": 85,
     "metadata": {},
     "output_type": "execute_result"
    },
    {
     "data": {
      "image/png": "[encoded data removed]",
      "text/plain": [
       "<Figure size 432x288 with 1 Axes>"
      ]
     },
     "metadata": {
      "needs_background": "light"
     },
     "output_type": "display_data"
    }
   ],
   "source": [
    "sns.distplot(yLabels) #轉換之前"
   ]
  },
  {
   "cell_type": "code",
   "execution_count": 87,
   "metadata": {},
   "outputs": [
    {
     "data": {
      "text/plain": [
       "<matplotlib.axes._subplots.AxesSubplot at 0x18c40e36a88>"
      ]
     },
     "execution_count": 87,
     "metadata": {},
     "output_type": "execute_result"
    },
    {
     "data": {
      "image/png": "[encoded data removed]",
      "text/plain": [
       "<Figure size 432x288 with 1 Axes>"
      ]
     },
     "metadata": {
      "needs_background": "light"
     },
     "output_type": "display_data"
    }
   ],
   "source": [
    "yLabelsLog = np.log(yLabels)\n",
    "sns.distplot(yLabelsLog) #轉換之後"
   ]
  },
  {
   "cell_type": "code",
   "execution_count": 88,
   "metadata": {},
   "outputs": [],
   "source": [
    "dropFeatures = ['casual',\"count\",\"datetime\",\"date\",\"registered\"]  #訓練資料和測試資料中都去掉目標函數count\n",
    "dataTrain  = dataTrain.drop(dropFeatures,axis=1)\n",
    "dataTest  = dataTest.drop(dropFeatures,axis=1)"
   ]
  },
  {
   "cell_type": "code",
   "execution_count": 90,
   "metadata": {},
   "outputs": [],
   "source": [
    "dataTrain_backup = dataTrain\n",
    "dataTest_backup = dataTest"
   ]
  },
  {
   "cell_type": "code",
   "execution_count": 91,
   "metadata": {},
   "outputs": [
    {
     "name": "stdout",
     "output_type": "stream",
     "text": [
      "<class 'pandas.core.frame.DataFrame'>\n",
      "Int64Index: 10282 entries, 9027 to 9026\n",
      "Data columns (total 12 columns):\n",
      "season        10282 non-null int64\n",
      "holiday       10282 non-null int64\n",
      "workingday    10282 non-null int64\n",
      "weather       10282 non-null int64\n",
      "temp          10282 non-null float64\n",
      "atemp         10282 non-null float64\n",
      "humidity      10282 non-null int64\n",
      "windspeed     10282 non-null float64\n",
      "weekday       10282 non-null int64\n",
      "year          10282 non-null int64\n",
      "month         10282 non-null int64\n",
      "hour          10282 non-null int64\n",
      "dtypes: float64(3), int64(9)\n",
      "memory usage: 1.0 MB\n"
     ]
    }
   ],
   "source": [
    "dataTrain.info()"
   ]
  },
  {
   "cell_type": "code",
   "execution_count": 92,
   "metadata": {},
   "outputs": [
    {
     "name": "stdout",
     "output_type": "stream",
     "text": [
      "<class 'pandas.core.frame.DataFrame'>\n",
      "Int64Index: 6493 entries, 10282 to 15907\n",
      "Data columns (total 12 columns):\n",
      "season        6493 non-null int64\n",
      "holiday       6493 non-null int64\n",
      "workingday    6493 non-null int64\n",
      "weather       6493 non-null int64\n",
      "temp          6493 non-null float64\n",
      "atemp         6493 non-null float64\n",
      "humidity      6493 non-null int64\n",
      "windspeed     6493 non-null float64\n",
      "weekday       6493 non-null int64\n",
      "year          6493 non-null int64\n",
      "month         6493 non-null int64\n",
      "hour          6493 non-null int64\n",
      "dtypes: float64(3), int64(9)\n",
      "memory usage: 659.4 KB\n"
     ]
    }
   ],
   "source": [
    "dataTest.info()"
   ]
  },
  {
   "cell_type": "code",
   "execution_count": 94,
   "metadata": {},
   "outputs": [
    {
     "data": {
      "text/plain": [
       "RandomForestRegressor(bootstrap=True, criterion='mse', max_depth=None,\n",
       "                      max_features='auto', max_leaf_nodes=None,\n",
       "                      min_impurity_decrease=0.0, min_impurity_split=None,\n",
       "                      min_samples_leaf=1, min_samples_split=2,\n",
       "                      min_weight_fraction_leaf=0.0, n_estimators=1000,\n",
       "                      n_jobs=None, oob_score=False, random_state=42, verbose=0,\n",
       "                      warm_start=False)"
      ]
     },
     "execution_count": 94,
     "metadata": {},
     "output_type": "execute_result"
    }
   ],
   "source": [
    "rfModel = RandomForestRegressor(n_estimators=1000,random_state=42)\n",
    "\n",
    "rfModel.fit(dataTrain,yLabelsLog)"
   ]
  },
  {
   "cell_type": "code",
   "execution_count": 96,
   "metadata": {},
   "outputs": [
    {
     "data": {
      "text/plain": [
       "array([3.00713132, 3.42205423, 3.20888678, ..., 5.17300399, 4.92908714,\n",
       "       4.57030668])"
      ]
     },
     "execution_count": 96,
     "metadata": {},
     "output_type": "execute_result"
    }
   ],
   "source": [
    "#訓練資料中的預測:\n",
    "preds = rfModel.predict(X= dataTrain)\n",
    "preds"
   ]
  },
  {
   "cell_type": "code",
   "execution_count": 97,
   "metadata": {},
   "outputs": [
    {
     "data": {
      "text/plain": [
       "array([2.36807591, 1.56636436, 1.04224182, ..., 4.91340087, 4.67551118,\n",
       "       4.05349342])"
      ]
     },
     "execution_count": 97,
     "metadata": {},
     "output_type": "execute_result"
    }
   ],
   "source": [
    "#測試資料中的預測:\n",
    "predsTest = rfModel.predict(X= dataTest)\n",
    "predsTest\n"
   ]
  },
  {
   "cell_type": "code",
   "execution_count": 99,
   "metadata": {},
   "outputs": [
    {
     "data": {
      "text/html": [
       "<div>\n",
       "<style scoped>\n",
       "    .dataframe tbody tr th:only-of-type {\n",
       "        vertical-align: middle;\n",
       "    }\n",
       "\n",
       "    .dataframe tbody tr th {\n",
       "        vertical-align: top;\n",
       "    }\n",
       "\n",
       "    .dataframe thead th {\n",
       "        text-align: right;\n",
       "    }\n",
       "</style>\n",
       "<table border=\"1\" class=\"dataframe\">\n",
       "  <thead>\n",
       "    <tr style=\"text-align: right;\">\n",
       "      <th></th>\n",
       "      <th>datetime</th>\n",
       "      <th>count</th>\n",
       "    </tr>\n",
       "  </thead>\n",
       "  <tbody>\n",
       "    <tr>\n",
       "      <td>10282</td>\n",
       "      <td>2011-01-20 00:00:00</td>\n",
       "      <td>10.676829</td>\n",
       "    </tr>\n",
       "    <tr>\n",
       "      <td>15908</td>\n",
       "      <td>2011-01-20 01:00:00</td>\n",
       "      <td>4.789205</td>\n",
       "    </tr>\n",
       "    <tr>\n",
       "      <td>15909</td>\n",
       "      <td>2011-01-20 02:00:00</td>\n",
       "      <td>2.835567</td>\n",
       "    </tr>\n",
       "    <tr>\n",
       "      <td>10283</td>\n",
       "      <td>2011-01-20 03:00:00</td>\n",
       "      <td>2.962121</td>\n",
       "    </tr>\n",
       "    <tr>\n",
       "      <td>10284</td>\n",
       "      <td>2011-01-20 04:00:00</td>\n",
       "      <td>2.495604</td>\n",
       "    </tr>\n",
       "    <tr>\n",
       "      <td>...</td>\n",
       "      <td>...</td>\n",
       "      <td>...</td>\n",
       "    </tr>\n",
       "    <tr>\n",
       "      <td>15903</td>\n",
       "      <td>2012-12-31 19:00:00</td>\n",
       "      <td>295.094553</td>\n",
       "    </tr>\n",
       "    <tr>\n",
       "      <td>15904</td>\n",
       "      <td>2012-12-31 20:00:00</td>\n",
       "      <td>201.462386</td>\n",
       "    </tr>\n",
       "    <tr>\n",
       "      <td>15905</td>\n",
       "      <td>2012-12-31 21:00:00</td>\n",
       "      <td>136.101491</td>\n",
       "    </tr>\n",
       "    <tr>\n",
       "      <td>15906</td>\n",
       "      <td>2012-12-31 22:00:00</td>\n",
       "      <td>107.287397</td>\n",
       "    </tr>\n",
       "    <tr>\n",
       "      <td>15907</td>\n",
       "      <td>2012-12-31 23:00:00</td>\n",
       "      <td>57.598321</td>\n",
       "    </tr>\n",
       "  </tbody>\n",
       "</table>\n",
       "<p>6493 rows × 2 columns</p>\n",
       "</div>"
      ],
      "text/plain": [
       "                  datetime       count\n",
       "10282  2011-01-20 00:00:00   10.676829\n",
       "15908  2011-01-20 01:00:00    4.789205\n",
       "15909  2011-01-20 02:00:00    2.835567\n",
       "10283  2011-01-20 03:00:00    2.962121\n",
       "10284  2011-01-20 04:00:00    2.495604\n",
       "...                    ...         ...\n",
       "15903  2012-12-31 19:00:00  295.094553\n",
       "15904  2012-12-31 20:00:00  201.462386\n",
       "15905  2012-12-31 21:00:00  136.101491\n",
       "15906  2012-12-31 22:00:00  107.287397\n",
       "15907  2012-12-31 23:00:00   57.598321\n",
       "\n",
       "[6493 rows x 2 columns]"
      ]
     },
     "execution_count": 99,
     "metadata": {},
     "output_type": "execute_result"
    }
   ],
   "source": [
    "#要輸出成CSV檔案再上傳Kaggle:\n",
    "\n",
    "submission = pd.DataFrame({\n",
    "        \"datetime\": datetimecol,\n",
    "        \"count\": [max(0, x) for x in np.exp(predsTest)] #exp是因為之前做過對數轉換，必須再轉回來!!\n",
    "    })\n",
    "\n",
    "submission.to_csv('bike_predictions_RF.csv', index=False)\n",
    "\n",
    "submission"
   ]
  },
  {
   "cell_type": "code",
   "execution_count": null,
   "metadata": {},
   "outputs": [],
   "source": []
  }
 ],
 "metadata": {
  "kernelspec": {
   "display_name": "Python 3",
   "language": "python",
   "name": "python3"
  },
  "language_info": {
   "codemirror_mode": {
    "name": "ipython",
    "version": 3
   },
   "file_extension": ".py",
   "mimetype": "text/x-python",
   "name": "python",
   "nbconvert_exporter": "python",
   "pygments_lexer": "ipython3",
   "version": "3.7.4"
  }
 },
 "nbformat": 4,
 "nbformat_minor": 2
}
